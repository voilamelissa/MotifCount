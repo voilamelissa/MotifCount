{
 "cells": [
  {
   "cell_type": "markdown",
   "metadata": {},
   "source": [
    "# Compute Counts and Frequencies\n",
    "A cheeky Python script to recreate the counts matrix and frequency matrix from a given set of sequences using NumPy and Pandas. The script follows the steps outlined in the Gibbs sampling approach:"
   ]
  },
  {
   "cell_type": "code",
   "execution_count": 2,
   "metadata": {},
   "outputs": [],
   "source": [
    "# Import our dependencies\n",
    "import numpy as np\n",
    "import pandas as pd"
   ]
  },
  {
   "cell_type": "code",
   "execution_count": 6,
   "metadata": {},
   "outputs": [],
   "source": [
    "# Starting data: example sequences (motifs)\n",
    "sequences = [\"ACGTACG\", \n",
    "             \"ACGTTGC\", \n",
    "             \"GCGTACG\", \n",
    "             \"TCGTAGC\"]"
   ]
  },
  {
   "cell_type": "code",
   "execution_count": 7,
   "metadata": {},
   "outputs": [],
   "source": [
    "# Step 1: initialise nucleotide positions\n",
    "nucleotides = ['A', 'C', 'G', 'T']\n",
    "motif_length = len(sequences[0])  # assume all motifs have the same length"
   ]
  },
  {
   "cell_type": "code",
   "execution_count": 8,
   "metadata": {},
   "outputs": [
    {
     "name": "stdout",
     "output_type": "stream",
     "text": [
      "Counts Matrix:\n",
      "       A  C  G  T\n",
      "Pos 0  2  0  1  1\n",
      "Pos 1  0  4  0  0\n",
      "Pos 2  0  0  4  0\n",
      "Pos 3  0  0  0  4\n",
      "Pos 4  3  0  0  1\n",
      "Pos 5  0  2  2  0\n",
      "Pos 6  0  2  2  0\n"
     ]
    }
   ],
   "source": [
    "# Step 2: compute Counts Matrix\n",
    "counts_matrix = {nuc: [0] * motif_length for nuc in nucleotides}\n",
    "\n",
    "for seq in sequences:\n",
    "    for pos, base in enumerate(seq):\n",
    "        counts_matrix[base][pos] += 1\n",
    "\n",
    "# Convert to Pandas DataFrame\n",
    "counts_df = pd.DataFrame(counts_matrix, index=[f'Pos {i}' for i in range(motif_length)])\n",
    "print(\"Counts Matrix:\")\n",
    "print(counts_df)"
   ]
  },
  {
   "cell_type": "code",
   "execution_count": 12,
   "metadata": {},
   "outputs": [
    {
     "name": "stdout",
     "output_type": "stream",
     "text": [
      "\n",
      "Frequency Matrix with Pseudocounts:\n",
      "         A    C    G    T\n",
      "Pos 0  0.5  0.1  0.3  0.3\n",
      "Pos 1  0.1  0.9  0.1  0.1\n",
      "Pos 2  0.1  0.1  0.9  0.1\n",
      "Pos 3  0.1  0.1  0.1  0.9\n",
      "Pos 4  0.7  0.1  0.1  0.3\n",
      "Pos 5  0.1  0.5  0.5  0.1\n",
      "Pos 6  0.1  0.5  0.5  0.1\n"
     ]
    }
   ],
   "source": [
    "# Step 3: compute Frequency Matrix (applying Pseudocount of 0.5)\n",
    "pseudocount = 0.5\n",
    "total_counts = counts_df.sum(axis=1) + 2 * pseudocount  # Total count per column including pseudocount\n",
    "\n",
    "frequency_matrix = {nuc: [(counts_df[nuc].iloc[i] + pseudocount) / total_counts.iloc[i] for i in range(motif_length)] for nuc in nucleotides}\n",
    "\n",
    "# Convert to Pandas DataFrame\n",
    "frequency_df = pd.DataFrame(frequency_matrix, index=[f'Pos {i}' for i in range(motif_length)])\n",
    "print(\"\\nFrequency Matrix with Pseudocounts:\")\n",
    "print(frequency_df)"
   ]
  },
  {
   "cell_type": "markdown",
   "metadata": {},
   "source": [
    "Now that we've established our script works, we can establish a random sequence generator for testing. "
   ]
  },
  {
   "cell_type": "code",
   "execution_count": null,
   "metadata": {},
   "outputs": [],
   "source": []
  }
 ],
 "metadata": {
  "kernelspec": {
   "display_name": "Python 3",
   "language": "python",
   "name": "python3"
  },
  "language_info": {
   "codemirror_mode": {
    "name": "ipython",
    "version": 3
   },
   "file_extension": ".py",
   "mimetype": "text/x-python",
   "name": "python",
   "nbconvert_exporter": "python",
   "pygments_lexer": "ipython3",
   "version": "3.9.6"
  }
 },
 "nbformat": 4,
 "nbformat_minor": 2
}
